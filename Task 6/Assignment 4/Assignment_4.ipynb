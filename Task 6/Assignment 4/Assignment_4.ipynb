{
  "nbformat": 4,
  "nbformat_minor": 0,
  "metadata": {
    "colab": {
      "provenance": [],
      "collapsed_sections": []
    },
    "kernelspec": {
      "name": "python3",
      "display_name": "Python 3"
    },
    "language_info": {
      "name": "python"
    }
  },
  "cells": [
    {
      "cell_type": "code",
      "execution_count": 1,
      "metadata": {
        "id": "WwyITyHkVuiH"
      },
      "outputs": [],
      "source": [
        "import numpy as np"
      ]
    },
    {
      "cell_type": "markdown",
      "source": [
        "Import phi and phi_test from train and test datasets using NumPy's loadtxt function"
      ],
      "metadata": {
        "id": "Cuxugd5NWSTG"
      }
    },
    {
      "cell_type": "code",
      "source": [
        "phi = np.loadtxt('/content/train.csv',dtype = 'float', delimiter = ',', skiprows =1, usecols = tuple(range(1,14)))"
      ],
      "metadata": {
        "id": "-OVURd86WUzU"
      },
      "execution_count": 3,
      "outputs": []
    },
    {
      "cell_type": "code",
      "source": [
        "phi"
      ],
      "metadata": {
        "colab": {
          "base_uri": "https://localhost:8080/"
        },
        "id": "ba9nqXasXuzU",
        "outputId": "215d7228-2c8c-4146-e83e-9bd1d8e247f1"
      },
      "execution_count": 4,
      "outputs": [
        {
          "output_type": "execute_result",
          "data": {
            "text/plain": [
              "array([[9.55770e-01, 0.00000e+00, 8.14000e+00, ..., 2.10000e+01,\n",
              "        3.06380e+02, 1.72800e+01],\n",
              "       [2.87500e-02, 2.80000e+01, 1.50400e+01, ..., 1.82000e+01,\n",
              "        3.96330e+02, 6.21000e+00],\n",
              "       [1.22358e+00, 0.00000e+00, 1.95800e+01, ..., 1.47000e+01,\n",
              "        3.63430e+02, 4.59000e+00],\n",
              "       ...,\n",
              "       [6.65492e+00, 0.00000e+00, 1.81000e+01, ..., 2.02000e+01,\n",
              "        3.96900e+02, 1.39900e+01],\n",
              "       [1.31170e-01, 0.00000e+00, 8.56000e+00, ..., 2.09000e+01,\n",
              "        3.87690e+02, 1.40900e+01],\n",
              "       [6.46600e-02, 7.00000e+01, 2.24000e+00, ..., 1.48000e+01,\n",
              "        3.68240e+02, 4.97000e+00]])"
            ]
          },
          "metadata": {},
          "execution_count": 4
        }
      ]
    },
    {
      "cell_type": "code",
      "source": [
        "phi_test = np.loadtxt('/content/test.csv',dtype = 'float', delimiter = ',', skiprows =1, usecols = tuple(range(1,14)))"
      ],
      "metadata": {
        "id": "B_3Lzyx7X7-S"
      },
      "execution_count": 5,
      "outputs": []
    },
    {
      "cell_type": "code",
      "source": [
        "phi_test"
      ],
      "metadata": {
        "colab": {
          "base_uri": "https://localhost:8080/"
        },
        "id": "uHkY2c2UX73M",
        "outputId": "1211659b-74ed-496c-d067-3d64ed3ed593"
      },
      "execution_count": 6,
      "outputs": [
        {
          "output_type": "execute_result",
          "data": {
            "text/plain": [
              "array([[1.06120e-01, 3.00000e+01, 4.93000e+00, ..., 1.66000e+01,\n",
              "        3.94620e+02, 1.24000e+01],\n",
              "       [3.41090e-01, 0.00000e+00, 7.38000e+00, ..., 1.96000e+01,\n",
              "        3.96900e+02, 6.12000e+00],\n",
              "       [1.22472e+01, 0.00000e+00, 1.81000e+01, ..., 2.02000e+01,\n",
              "        2.46500e+01, 1.56900e+01],\n",
              "       ...,\n",
              "       [5.36000e-02, 2.10000e+01, 5.64000e+00, ..., 1.68000e+01,\n",
              "        3.96900e+02, 5.28000e+00],\n",
              "       [1.04690e-01, 4.00000e+01, 6.41000e+00, ..., 1.76000e+01,\n",
              "        3.89250e+02, 6.05000e+00],\n",
              "       [4.55587e+00, 0.00000e+00, 1.81000e+01, ..., 2.02000e+01,\n",
              "        3.54700e+02, 7.12000e+00]])"
            ]
          },
          "metadata": {},
          "execution_count": 6
        }
      ]
    },
    {
      "cell_type": "markdown",
      "source": [
        "Import y from train dataset using the loadtxt function"
      ],
      "metadata": {
        "id": "xrvRJVomYOwz"
      }
    },
    {
      "cell_type": "code",
      "source": [
        "y = np.loadtxt('/content/train.csv',dtype = 'float', delimiter = ',', skiprows = 1, usecols = 14, ndmin = 2)"
      ],
      "metadata": {
        "id": "WBsjoKneYRLd"
      },
      "execution_count": 7,
      "outputs": []
    },
    {
      "cell_type": "markdown",
      "source": [
        "Concatenate column of 1s to right of phi and phi_test"
      ],
      "metadata": {
        "id": "B1TtoXrZY_or"
      }
    },
    {
      "cell_type": "code",
      "source": [
        "phi_test = np.concatenate((phi_test, np.ones((105, 1))), axis=1)"
      ],
      "metadata": {
        "id": "CC3qBMYMZDds"
      },
      "execution_count": 8,
      "outputs": []
    },
    {
      "cell_type": "code",
      "source": [
        "phi = np.concatenate((phi, np.ones((400, 1))), axis=1)"
      ],
      "metadata": {
        "id": "b_-A38i0ZV0q"
      },
      "execution_count": 9,
      "outputs": []
    },
    {
      "cell_type": "markdown",
      "source": [
        "Apply min max scaling on each coloumn of phi and phi_test"
      ],
      "metadata": {
        "id": "OatJRI67Zn3k"
      }
    },
    {
      "cell_type": "code",
      "source": [
        "for i in range(0, 13):\n",
        "    col_max = max(phi[:, i])\n",
        "    col_min = min(phi[:, i])\n",
        "    phi[:, i] = (phi[:, i] - col_min) / (col_max - col_min)\n",
        "    phi_test[:, i] = (phi_test[:, i] - col_min) / (col_max - col_min)"
      ],
      "metadata": {
        "id": "qg9zBC2RZpUu"
      },
      "execution_count": 10,
      "outputs": []
    },
    {
      "cell_type": "markdown",
      "source": [
        "Apply log scaling on y"
      ],
      "metadata": {
        "id": "a8TSyY4gZyy8"
      }
    },
    {
      "cell_type": "code",
      "source": [
        "y = np.log(y)"
      ],
      "metadata": {
        "id": "jGMZHgx4Z1uT"
      },
      "execution_count": 11,
      "outputs": []
    },
    {
      "cell_type": "markdown",
      "source": [
        "Define a function to calculate change in error function based on phi, w and p norm"
      ],
      "metadata": {
        "id": "Tzz2JR34Z5Ia"
      }
    },
    {
      "cell_type": "code",
      "source": [
        "def delta_w(p, phi, w):\n",
        "    if p == 2:\n",
        "        deltaw = (2 * (np.dot(np.dot(np.transpose(phi), phi), w) -\n",
        "                       np.dot(np.transpose(phi), y)) +\n",
        "                  lambd * p * np.power(np.absolute(w), (p - 1)))\n",
        "    if p < 2 and p > 1:\n",
        "        deltaw = (2 * (np.dot(np.dot(np.transpose(phi), phi), w) -\n",
        "                       np.dot(np.transpose(phi), y)) +\n",
        "                  lambd * p * np.power(np.absolute(w), (p - 1)) * np.sign(w))\n",
        "    return deltaw"
      ],
      "metadata": {
        "id": "5eLlO_4lZ75W"
      },
      "execution_count": 12,
      "outputs": []
    },
    {
      "cell_type": "markdown",
      "source": [
        "Make a dictionary containing filenames as keys and p as values"
      ],
      "metadata": {
        "id": "1stZcr3DaHVi"
      }
    },
    {
      "cell_type": "code",
      "source": [
        "filenames = {'output.csv': 2.0,\n",
        "             'output_p1.csv': 1.75,\n",
        "             'output_p2.csv': 1.5,\n",
        "             'output_p3.csv': 1.3\n",
        "             }"
      ],
      "metadata": {
        "id": "j38VAupHaLLb"
      },
      "execution_count": 13,
      "outputs": []
    },
    {
      "cell_type": "markdown",
      "source": [
        "For each item in this dictionary"
      ],
      "metadata": {
        "id": "JpN-nhIVaTxJ"
      }
    },
    {
      "cell_type": "markdown",
      "source": [
        "Set the w to all 0s"
      ],
      "metadata": {
        "id": "3cDgu82MaYlL"
      }
    },
    {
      "cell_type": "code",
      "source": [
        "for (fname, p) in filenames.items():\n",
        "    w = np.zeros((14, 1))"
      ],
      "metadata": {
        "id": "XlaigcHpabYJ"
      },
      "execution_count": 14,
      "outputs": []
    },
    {
      "cell_type": "markdown",
      "source": [
        "Set an appropriate value for lambda and step size"
      ],
      "metadata": {
        "id": "of-BMtsmanr5"
      }
    },
    {
      "cell_type": "code",
      "source": [
        "lambd = 0.2\n",
        "t = 0.00012 "
      ],
      "metadata": {
        "id": "b7G0Kq3Saxvy"
      },
      "execution_count": 15,
      "outputs": []
    },
    {
      "cell_type": "markdown",
      "source": [
        "Calculate new value of w"
      ],
      "metadata": {
        "id": "e1DBVqINa3lz"
      }
    },
    {
      "cell_type": "code",
      "source": [
        "w_new = w - t * delta_w(p, phi, w)"
      ],
      "metadata": {
        "id": "t39vQaOxa6fh"
      },
      "execution_count": 16,
      "outputs": []
    },
    {
      "cell_type": "markdown",
      "source": [
        "Repeat steps until error between consecutive ws is less than threshold"
      ],
      "metadata": {
        "id": "Rw62qajUa9OZ"
      }
    },
    {
      "cell_type": "code",
      "source": [
        "i = 0\n",
        "while(np.linalg.norm(w_new-w) > 10 ** -10):\n",
        "        w = w_new\n",
        "        w_new = w - t * delta_w(p, phi, w)\n",
        "        i = i + 1"
      ],
      "metadata": {
        "id": "rppBqZSbbFih"
      },
      "execution_count": 17,
      "outputs": []
    },
    {
      "cell_type": "markdown",
      "source": [
        "Load values of id from test data file"
      ],
      "metadata": {
        "id": "zChCyK2HbKxt"
      }
    },
    {
      "cell_type": "code",
      "source": [
        "id_test = np.loadtxt('/content/test.csv', dtype='int', delimiter=',',\n",
        "                         skiprows=1, usecols=0,ndmin = 2)"
      ],
      "metadata": {
        "id": "UqFjuCYcbOzQ"
      },
      "execution_count": 18,
      "outputs": []
    },
    {
      "cell_type": "markdown",
      "source": [
        "Calculate y for test data using phi test and applying inverse log"
      ],
      "metadata": {
        "id": "uH1vU78BbbRh"
      }
    },
    {
      "cell_type": "code",
      "source": [
        "y_test = np.exp(np.dot(phi_test, w_new))"
      ],
      "metadata": {
        "id": "d5EYUmA_bcch"
      },
      "execution_count": 19,
      "outputs": []
    },
    {
      "cell_type": "markdown",
      "source": [
        "Save the ids and y according to filename from dictionary"
      ],
      "metadata": {
        "id": "A8U3XhHOcy9A"
      }
    },
    {
      "cell_type": "code",
      "source": [
        "np.savetxt(fname, np.concatenate((id_test, y_test), axis=1),\n",
        "               delimiter=',', fmt=['%d', '%f'], header='ID,MEDV', comments='')"
      ],
      "metadata": {
        "id": "MoFcSAr6c1zT"
      },
      "execution_count": 20,
      "outputs": []
    }
  ]
}